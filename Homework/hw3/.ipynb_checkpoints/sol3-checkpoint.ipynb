{
 "cells": [
  {
   "cell_type": "code",
   "execution_count": 9,
   "id": "28abf536-ae87-4838-b3b4-63dd9f081c2d",
   "metadata": {},
   "outputs": [
    {
     "data": {
      "text/html": [
       "<style>\n",
       ".list-inline {list-style: none; margin:0; padding: 0}\n",
       ".list-inline>li {display: inline-block}\n",
       ".list-inline>li:not(:last-child)::after {content: \"\\00b7\"; padding: 0 .5ex}\n",
       "</style>\n",
       "<ol class=list-inline><li>489</li><li>511</li></ol>\n"
      ],
      "text/latex": [
       "\\begin{enumerate*}\n",
       "\\item 489\n",
       "\\item 511\n",
       "\\end{enumerate*}\n"
      ],
      "text/markdown": [
       "1. 489\n",
       "2. 511\n",
       "\n",
       "\n"
      ],
      "text/plain": [
       "[1] 489 511"
      ]
     },
     "metadata": {},
     "output_type": "display_data"
    },
    {
     "data": {
      "text/html": [
       "<style>\n",
       ".list-inline {list-style: none; margin:0; padding: 0}\n",
       ".list-inline>li {display: inline-block}\n",
       ".list-inline>li:not(:last-child)::after {content: \"\\00b7\"; padding: 0 .5ex}\n",
       "</style>\n",
       "<ol class=list-inline><li>489.34</li><li>510.66</li></ol>\n"
      ],
      "text/latex": [
       "\\begin{enumerate*}\n",
       "\\item 489.34\n",
       "\\item 510.66\n",
       "\\end{enumerate*}\n"
      ],
      "text/markdown": [
       "1. 489.34\n",
       "2. 510.66\n",
       "\n",
       "\n"
      ],
      "text/plain": [
       "[1] 489.34 510.66"
      ]
     },
     "metadata": {},
     "output_type": "display_data"
    }
   ],
   "source": [
    "qbinom(c(0.25, 0.75), size = 1000, prob = 0.5)\n",
    "round(qnorm(c(0.25, 0.75), mean = 1000 * 0.5, sd = sqrt(1000 * 0.5 *(1-0.5))), 2)"
   ]
  },
  {
   "cell_type": "markdown",
   "id": "1f213a52-72eb-4ace-b69e-c3e985af131b",
   "metadata": {},
   "source": [
    "(b) The approximated first and third quartiles using normal approximation are quite similar to the sample first and third quartiles calculated in (b). This suggests that the normal approximation is fairly good in the case of $B(1000,0.5)$."
   ]
  },
  {
   "cell_type": "code",
   "execution_count": 10,
   "id": "0cebdfc2-467e-4776-b326-dba6db8ef59c",
   "metadata": {},
   "outputs": [],
   "source": [
    "student <- read.csv(\"../../Data/student.csv\")\n",
    "ansA <- t.test(student$height, conf.level = 0.95)\n",
    "ansA_CI <- ansA$conf.int\n",
    "ansB <- t.test(student$pulse, conf.level = 0.99)\n",
    "ansB_CI <- ansB$conf.int"
   ]
  },
  {
   "cell_type": "code",
   "execution_count": 11,
   "id": "7dbc37ff-0356-4576-9f33-46a1894ece96",
   "metadata": {},
   "outputs": [
    {
     "data": {
      "text/html": [
       "<style>\n",
       ".list-inline {list-style: none; margin:0; padding: 0}\n",
       ".list-inline>li {display: inline-block}\n",
       ".list-inline>li:not(:last-child)::after {content: \"\\00b7\"; padding: 0 .5ex}\n",
       "</style>\n",
       "<ol class=list-inline><li>67.42</li><li>68.56</li></ol>\n"
      ],
      "text/latex": [
       "\\begin{enumerate*}\n",
       "\\item 67.42\n",
       "\\item 68.56\n",
       "\\end{enumerate*}\n"
      ],
      "text/markdown": [
       "1. 67.42\n",
       "2. 68.56\n",
       "\n",
       "\n"
      ],
      "text/plain": [
       "[1] 67.42 68.56\n",
       "attr(,\"conf.level\")\n",
       "[1] 0.95"
      ]
     },
     "metadata": {},
     "output_type": "display_data"
    },
    {
     "data": {
      "text/html": [
       "<style>\n",
       ".list-inline {list-style: none; margin:0; padding: 0}\n",
       ".list-inline>li {display: inline-block}\n",
       ".list-inline>li:not(:last-child)::after {content: \"\\00b7\"; padding: 0 .5ex}\n",
       "</style>\n",
       "<ol class=list-inline><li>71.59</li><li>78.07</li></ol>\n"
      ],
      "text/latex": [
       "\\begin{enumerate*}\n",
       "\\item 71.59\n",
       "\\item 78.07\n",
       "\\end{enumerate*}\n"
      ],
      "text/markdown": [
       "1. 71.59\n",
       "2. 78.07\n",
       "\n",
       "\n"
      ],
      "text/plain": [
       "[1] 71.59 78.07\n",
       "attr(,\"conf.level\")\n",
       "[1] 0.99"
      ]
     },
     "metadata": {},
     "output_type": "display_data"
    }
   ],
   "source": [
    "round(ansA_CI, 2)\n",
    "round(ansB_CI, 2)"
   ]
  },
  {
   "cell_type": "markdown",
   "id": "1a390e79-f720-493e-a6f5-39243dbf81da",
   "metadata": {},
   "source": [
    "(a) The $95\\%$ confidence interval for the average students height is 67.42 and 68.56 inches.\n",
    "\n",
    "(b) The highest average height based on the $95\\%$ confidence interval is 68.56 inches.\n",
    "\n",
    "(c) The $99\\%$ confidence interval for the average students pulse is 71.59 and 78.07 inches.\n",
    "\n",
    "(d) The lowest average height based on the $99\\%$ confidence interval is 71.59 inches."
   ]
  }
 ],
 "metadata": {
  "kernelspec": {
   "display_name": "R",
   "language": "R",
   "name": "ir"
  },
  "language_info": {
   "codemirror_mode": "r",
   "file_extension": ".r",
   "mimetype": "text/x-r-source",
   "name": "R",
   "pygments_lexer": "r",
   "version": "4.3.0"
  }
 },
 "nbformat": 4,
 "nbformat_minor": 5
}
