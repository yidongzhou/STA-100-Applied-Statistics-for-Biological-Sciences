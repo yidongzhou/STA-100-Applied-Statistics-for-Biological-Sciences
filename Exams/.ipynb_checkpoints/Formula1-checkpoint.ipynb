{
 "cells": [
  {
   "cell_type": "markdown",
   "id": "b2d79a71-a5ce-4a00-af1e-2a04e0f4da69",
   "metadata": {},
   "source": [
    "# Formula Sheet\n",
    "- Mean: $$\\bar{y}=\\frac{1}{n}\\sum_{i=1}^ny_i$$\n",
    "- Variance: $$s^2=\\frac{1}{n-1}\\sum_{i=1}^n(y_i-\\bar{y})^2$$\n",
    "- Median: $$(0.5)(n+1)$$\n",
    "- Addition rule: $$P(E_1\\cup E_2)=P(E_1)+P(E_2)-P(E_1\\cap E_2)$$\n",
    "- Multiplication rule: $$P(E_1\\cap E_2)=P(E_1)\\times P(E_2|E_1)$$\n",
    "- Conditional probability: $$P(E_2|E_1)=\\frac{P(E_1\\cap E_2)}{P(E_1)}$$\n",
    "- Expected value: $$\\mu_Y=\\sum y_iP(Y=y_i)$$\n",
    "- Variance: $$\\sigma_Y^2=\\sum(y_i-\\mu_Y)^2P(Y=y_i)$$\n",
    "- Binomial: \n",
    "    - $$P(Y=j)=\\binom{n}{j}p^j(1-p)^{n-j},$$\n",
    "    where $$\\binom{n}{j}=\\frac{n!}{j!(n-j)!}\\text{ and }n!=n(n-1)\\cdots1$$\n",
    "    - $$\\mu_Y=np,\\quad\\sigma_Y^2=np(1-p)$$\n",
    "- Standardization: $$Z=\\frac{1}{\\sigma}(Y-\\mu)$$"
   ]
  }
 ],
 "metadata": {
  "kernelspec": {
   "display_name": "R",
   "language": "R",
   "name": "ir"
  },
  "language_info": {
   "codemirror_mode": "r",
   "file_extension": ".r",
   "mimetype": "text/x-r-source",
   "name": "R",
   "pygments_lexer": "r",
   "version": "4.3.0"
  }
 },
 "nbformat": 4,
 "nbformat_minor": 5
}
