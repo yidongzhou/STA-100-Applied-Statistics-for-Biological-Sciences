{
 "cells": [
  {
   "cell_type": "code",
   "execution_count": null,
   "id": "4c6b3a62-6f4f-4980-9f80-330c503fe049",
   "metadata": {},
   "outputs": [],
   "source": []
  }
 ],
 "metadata": {
  "kernelspec": {
   "display_name": "R",
   "language": "R",
   "name": "ir"
  },
  "language_info": {
   "codemirror_mode": "r",
   "file_extension": ".r",
   "mimetype": "text/x-r-source",
   "name": "R",
   "pygments_lexer": "r",
   "version": "4.3.0"
  }
 },
 "nbformat": 4,
 "nbformat_minor": 5
}
