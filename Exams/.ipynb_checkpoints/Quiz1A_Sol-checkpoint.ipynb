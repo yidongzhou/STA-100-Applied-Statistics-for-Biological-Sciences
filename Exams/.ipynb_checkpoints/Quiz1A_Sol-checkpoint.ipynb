{
 "cells": [
  {
   "cell_type": "markdown",
   "id": "2a16fe46-c411-4505-9d0b-245667c96b77",
   "metadata": {},
   "source": [
    "|1|2|3|4|5|6|7|8|9|10|11|12|13|14|15|16|17|18|19|20|\n",
    "|--|--|--|--|--|--|--|--|--|--|--|--|--|--|--|--|--|--|--|--|\n",
    "|(d)|(b)|(b)|(b)|(d)|(c)|(a)|(d)|(b)|(a)|(c)|(d)|(a)|(a)|(b)|(b)|(d)|(c)|(c)|(a)|"
   ]
  }
 ],
 "metadata": {
  "kernelspec": {
   "display_name": "R",
   "language": "R",
   "name": "ir"
  },
  "language_info": {
   "codemirror_mode": "r",
   "file_extension": ".r",
   "mimetype": "text/x-r-source",
   "name": "R",
   "pygments_lexer": "r",
   "version": "4.3.0"
  }
 },
 "nbformat": 4,
 "nbformat_minor": 5
}
